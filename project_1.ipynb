{
 "cells": [
  {
   "cell_type": "code",
   "execution_count": null,
   "id": "b2183e2b",
   "metadata": {},
   "outputs": [],
   "source": [
    "#import libraries\n",
    "import matplotlib.pyplot as plt\n",
    "import pandas as pd\n",
    "import scipy.stats as st"
   ]
  },
  {
   "cell_type": "code",
   "execution_count": null,
   "id": "8e8ee4d7",
   "metadata": {},
   "outputs": [],
   "source": [
    "# bring in csv files\n",
    "food_security_hh = \"data/data-EFK41.csv\"\n",
    "obesity_df = \"data/data-xeuft.csv\"\n",
    "grand_food_security_df = \"data/XVKxd.csv\"\n",
    "\n"
   ]
  },
  {
   "cell_type": "code",
   "execution_count": null,
   "id": "d846d064",
   "metadata": {},
   "outputs": [],
   "source": [
    "# Separate out the state and county columns"
   ]
  },
  {
   "cell_type": "code",
   "execution_count": null,
   "id": "3eca25ed",
   "metadata": {},
   "outputs": [],
   "source": [
    "# Rename Columns"
   ]
  },
  {
   "cell_type": "code",
   "execution_count": null,
   "id": "ba93cd7f",
   "metadata": {},
   "outputs": [],
   "source": [
    "# Get rid of what is not related to GA"
   ]
  },
  {
   "cell_type": "code",
   "execution_count": null,
   "id": "6ec68f3a",
   "metadata": {},
   "outputs": [],
   "source": [
    "# Merge by Counties"
   ]
  },
  {
   "cell_type": "code",
   "execution_count": null,
   "id": "6e17dcff",
   "metadata": {},
   "outputs": [],
   "source": [
    "# Sahmirah's Visual Block"
   ]
  },
  {
   "cell_type": "code",
   "execution_count": null,
   "id": "659d0bcb",
   "metadata": {},
   "outputs": [],
   "source": [
    "# Sahmirah's Visual Block 2"
   ]
  },
  {
   "cell_type": "code",
   "execution_count": null,
   "id": "b6d973a7",
   "metadata": {},
   "outputs": [],
   "source": [
    "# Sahmirah's Visual Block 3"
   ]
  },
  {
   "cell_type": "code",
   "execution_count": null,
   "id": "a4ffcdcf",
   "metadata": {},
   "outputs": [],
   "source": [
    "# Kendall's Visual Block"
   ]
  },
  {
   "cell_type": "code",
   "execution_count": null,
   "id": "6dc67b4b",
   "metadata": {},
   "outputs": [],
   "source": [
    "# Kendall's Visual Block 1"
   ]
  },
  {
   "cell_type": "code",
   "execution_count": null,
   "id": "017cc358",
   "metadata": {},
   "outputs": [],
   "source": [
    "# Kendall's Visual Block 2"
   ]
  },
  {
   "cell_type": "code",
   "execution_count": null,
   "id": "0a58e652",
   "metadata": {},
   "outputs": [],
   "source": [
    "# Bobby's Visual Block"
   ]
  },
  {
   "cell_type": "code",
   "execution_count": null,
   "id": "8adb14c0",
   "metadata": {},
   "outputs": [],
   "source": [
    "# Bobby's Visual Block 1 "
   ]
  },
  {
   "cell_type": "code",
   "execution_count": null,
   "id": "2e34d830",
   "metadata": {},
   "outputs": [],
   "source": [
    "# Bobby's Visual Block 2"
   ]
  }
 ],
 "metadata": {
  "kernelspec": {
   "display_name": "PythonData",
   "language": "python",
   "name": "pythondata"
  },
  "language_info": {
   "codemirror_mode": {
    "name": "ipython",
    "version": 3
   },
   "file_extension": ".py",
   "mimetype": "text/x-python",
   "name": "python",
   "nbconvert_exporter": "python",
   "pygments_lexer": "ipython3",
   "version": "3.9.13"
  }
 },
 "nbformat": 4,
 "nbformat_minor": 5
}
