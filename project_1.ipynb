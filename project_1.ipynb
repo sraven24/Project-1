{
 "cells": [
  {
   "cell_type": "code",
   "execution_count": null,
   "id": "b2183e2b",
   "metadata": {},
   "outputs": [],
   "source": [
    "#import libraries\n",
    "import matplotlib.pyplot as plt\n",
    "import pandas as pd\n",
    "import scipy.stats as st"
   ]
  },
  {
   "cell_type": "code",
   "execution_count": null,
   "id": "8e8ee4d7",
   "metadata": {},
   "outputs": [],
   "source": [
    "# bring in csv files\n",
    "food_security_hh = \"data/data-EFK41.csv\"\n",
    "obesity_df = \"data/data-xeuft.csv\"\n",
    "grand_food_security_df = \"data/XVKxd.csv\"\n",
    "\n"
   ]
  }
 ],
 "metadata": {
  "kernelspec": {
   "display_name": "PythonData",
   "language": "python",
   "name": "pythondata"
  },
  "language_info": {
   "codemirror_mode": {
    "name": "ipython",
    "version": 3
   },
   "file_extension": ".py",
   "mimetype": "text/x-python",
   "name": "python",
   "nbconvert_exporter": "python",
   "pygments_lexer": "ipython3",
   "version": "3.9.13"
  }
 },
 "nbformat": 4,
 "nbformat_minor": 5
}
