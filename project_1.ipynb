{
 "cells": [
  {
   "cell_type": "code",
   "execution_count": null,
   "id": "b2183e2b",
   "metadata": {},
   "outputs": [],
   "source": [
    "#import libraries\n",
    "import matplotlib.pyplot as plt\n",
    "import pandas as pd\n",
    "import scipy.stats as st\n",
    "import numpy as np\n",
    "from sklearn import datasets\n",
    "from scipy.stats import linregress"
   ]
  },
  {
   "cell_type": "code",
   "execution_count": null,
   "id": "8e8ee4d7",
   "metadata": {
    "scrolled": true
   },
   "outputs": [],
   "source": [
    "# bring in csv files\n",
    "food_security_hh = \"data/data-EFK41.csv\"\n",
    "obesity_file = \"data/data-xeuft.csv\"\n",
    "grand_food_security_file = \"data/data-XVKxd.csv\"\n",
    "\n",
    "food_security_df = pd.read_csv(food_security_hh)\n",
    "obesity_df = pd.read_csv(obesity_file)\n",
    "grand_food_security_df = pd.read_csv(grand_food_security_file)\n",
    "\n",
    "# Need to split the county/state to be able to merge then narrow the dataframes\n",
    "# Splitting Columns - https://sparkbyexamples.com/pandas/pandas-split-column/#:~:text=the%20split()%20function%20is,Dataframe%20columns%2C%20whereas%20the%20Series.\n",
    "# How to rename the column - https://www.geeksforgeeks.org/how-to-rename-columns-in-pandas-dataframe/\n",
    "food_security_df[['County', 'State']] = food_security_df.NAME_E.str.split(\",\", expand = True)\n",
    "obesity_df[['County', 'State']] = obesity_df.Geography.str.split(\",\", expand = True)\n",
    "\n",
    "# Rename the one column for easier manipulation\n",
    "grand_food_security_df.rename(columns = {'County, State':'county_state'}, inplace = True)\n",
    "grand_food_security_df[['County', 'State']] = grand_food_security_df.county_state.str.split(\",\", expand = True)\n",
    "\n",
    "# Dropping all unneeded columns\n",
    "food_security_df.drop(columns=['NAME_E'],inplace=True, axis=1)\n",
    "obesity_df.drop(columns=['FIPS', 'Column 1.1','Column 1.2','Column 1.3','Adult Obesity (2017)','Adult Obesity (2016)','Adult Obesity (2015)','Adult Obesity (2014)','Geography'],inplace=True, axis=1)\n",
    "grand_food_security_df.drop(columns=['FIPS', 'county_state'],inplace=True, axis=1)\n",
    "\n",
    "\n",
    "# Isolating all Georgia information\n",
    "georgia_food_security_df = food_security_df.loc[food_security_df['State']==' Georgia']\n",
    "ga_obesity_df = obesity_df.loc[obesity_df['State']==' GA']\n",
    "georgia_grand_food_security_df = grand_food_security_df.loc[grand_food_security_df['State']==' Georgia']\n",
    "\n",
    "# Replacing Georgia with GA for merging purposes\n",
    "ga_food_security_df=georgia_food_security_df.replace(' Georgia',' GA')\n",
    "ga_grand_food_security_df=georgia_grand_food_security_df.replace(' Georgia',' GA')\n",
    "\n",
    "#Merging the dfs one by one\n",
    "food_security_pt1 = pd.merge(ga_food_security_df, ga_obesity_df, how = \"inner\", on=[\"State\", \"County\"])\n",
    "ga_food_security_complete = pd.merge(ga_food_security_df, ga_grand_food_security_df, how = \"inner\", on=[\"State\", \"County\"])\n",
    "ga_food_security_complete.head()"
   ]
  },
  {
   "cell_type": "code",
   "execution_count": null,
   "id": "5f9957de",
   "metadata": {},
   "outputs": [],
   "source": [
    "# Rename and drop Fields and copy the existing df to new df --jinny\n",
    "\n",
    "ga_food_security_complete.rename(columns={\n",
    "'Households': '#_Households_Per_County',\n",
    " 'Food Security Rate': 'Food_Security_Rate',\n",
    "'Food Insecurity Rate_x': 'Food_Insecurity_Rate',\n",
    "'Region': 'Region',\n",
    "'Median HH income': 'Median_HH_income',\n",
    "'County': 'County',\n",
    "'State': 'State',\n",
    "'Food Insecurity Rate_y': 'Food_Insecurity_Rate_y',\n",
    "'2018 Food Insecurity Rate': '2018_Food_Insecurity_Rate',\n",
    "'# of Food Insecure Persons in 2018': '#_of_Food_ Insecure_ Persons',\n",
    "'...': '...',\n",
    "'High Threshold Type': 'High_Threshold_Type',\n",
    "'% FI ≤ Low Threshold': '%_FI_≤_Low_Threshold',\n",
    "'% FI Btwn Thresholds': '%_FI_Btwn_Thresholds',\n",
    "'% FI &gt; High Threshold': '%_FI_&gt_High_Threshold',\n",
    "'2018 Child food insecurity rate': '2018_Child_food_insecurity_rate',\n",
    "'# of Food Insecure Children in 2018': '#_of_Food_Insecure_Children_in_2018',\n",
    "'% food insecure children in HH w/ HH incomes below 185 FPL in 2018': '%_food_insecure_children_in_HH_w/HH_incomes_below_185_FPL_in_2018',\n",
    "'% food insecure children in HH w/ HH incomes above 185 FPL in 2018': '%_food_insecure_children_in_HH_w/HH_incomes_above_185_FPL_in_2018',\n",
    "'2018 Cost Per Meal': '2018_Cost_Per_Meal',\n",
    "'2018 Weighted Annual Food Budget Shortfall': '2018_Weighted_Annual_Food_Budget_Shortfall'\n",
    "}, inplace=True)   \n",
    "ga_food_security_complete.head()"
   ]
  },
  {
   "cell_type": "code",
   "execution_count": null,
   "id": "2b48ccf2",
   "metadata": {},
   "outputs": [],
   "source": [
    "# drop tthe columns ()'Region','Food Insecurity Rate_y','2018 Food Insecurity Rate') and rename the df \n",
    "#df.drop([\"Courses\", \"Fee\"], axis = 1, inplace=True)\n",
    "ga_food_security_main = ga_food_security_complete.drop([\"Region\", \"Food_Insecurity_Rate_y\", \"2018_Food_Insecurity_Rate\"], axis=1) \n",
    "\n",
    "ga_food_security_main.to_csv(\"data\\consolidated_food_security_data.csv\")\n",
    "ga_food_security_main"
   ]
  },
  {
   "cell_type": "code",
   "execution_count": null,
   "id": "00b0166f",
   "metadata": {},
   "outputs": [],
   "source": [
    "# Visualize one thing and make the data  availble in the dataFrame --jinny\n",
    "# only using the following fields and also removing '% and ',' from #_of_Food_Insecure_Children_in_2018 2018_Child_food_insecurity_rate\n",
    "Num_HH_Per_County = ga_food_security_main['#_Households_Per_County']\n",
    "Food_Insecurity_Rate_Adult =  ga_food_security_main['Food_Insecurity_Rate']\n",
    "County = ga_food_security_main['County']\n",
    "Num_of_Food_Insecure_PPL_Adult= ga_food_security_main[\"#_of_Food_ Insecure_ Persons\"]\n",
    "Food_Insecurity_Rate_Child = ga_food_security_main['2018_Child_food_insecurity_rate'].str.replace(\"%\",\"\")\n",
    "#Food_Insecurity_Rate_Child\n",
    "Num_of_Food_Insecure_Children =  ga_food_security_main['#_of_Food_Insecure_Children_in_2018'].str.replace(\",\",\"\")\n",
    "#Num_of_Food_Insecure_Children\n"
   ]
  },
  {
   "cell_type": "code",
   "execution_count": null,
   "id": "c685f7c7",
   "metadata": {},
   "outputs": [],
   "source": [
    "summary_dfA = pd.DataFrame({'Num_HH_Per_County': Num_HH_Per_County,\n",
    "                                    'Food_Insecurity_Rate_Adult': Food_Insecurity_Rate_Adult,\n",
    "                                    'Num_of_Food_Insecure_PPL_Adult' : Num_of_Food_Insecure_PPL_Adult,\n",
    "                                    'County': County,\n",
    "                                    'Food_Insecurity_Rate_Child' : Food_Insecurity_Rate_Child,\n",
    "                                    'Num_of_Food_Insecure_Children' : Num_of_Food_Insecure_Children\n",
    "                                  \n",
    "                               })\n",
    "summary_dfA "
   ]
  },
  {
   "cell_type": "code",
   "execution_count": null,
   "id": "9f778821",
   "metadata": {},
   "outputs": [],
   "source": [
    "# only using the following fields and also removing '% and ',' from #_of_Food_Insecure_Children_in_2018 2018_Child_food_insecurity_rate\n",
    "# convert the following two fields to flaod data type\n",
    "Food_Insecurity_Rate_Child_A = summary_dfA['Food_Insecurity_Rate_Child'].astype(float)\n",
    "#Food_Insecurity_Rate_Child_A\n"
   ]
  },
  {
   "cell_type": "code",
   "execution_count": null,
   "id": "6ad327a5",
   "metadata": {},
   "outputs": [],
   "source": [
    "Num_of_Food_Insecure_Children_A = summary_dfA['Num_of_Food_Insecure_Children'].astype(float)\n",
    "#Num_of_Food_Insecure_Children_A"
   ]
  },
  {
   "cell_type": "code",
   "execution_count": null,
   "id": "87e73936",
   "metadata": {},
   "outputs": [],
   "source": [
    "summary_dfB = pd.DataFrame({'Num_HH_Per_County': Num_HH_Per_County,\n",
    "                                    'Food_Insecurity_Rate_Adult': Food_Insecurity_Rate_Adult,\n",
    "                                    'Num_of_Food_Insecure_PPL_Adult' : Num_of_Food_Insecure_PPL_Adult,\n",
    "                                    'County': County,\n",
    "                                    'Food_Insecurity_Rate_Child_A' : Food_Insecurity_Rate_Child_A,\n",
    "                                    'Num_of_Food_Insecure_Children_A' : Num_of_Food_Insecure_Children_A\n",
    "                                  \n",
    "                               })\n",
    "summary_dfB "
   ]
  },
  {
   "cell_type": "code",
   "execution_count": null,
   "id": "462f14b4",
   "metadata": {},
   "outputs": [],
   "source": [
    "\n",
    "Num_HH_For_All_County = round(summary_dfB[\"Num_HH_Per_County\"].sum())\n",
    "#Num_HH_For_All_County\n",
    "\n",
    "\n",
    "# Count the number of counties in Georgia : 159 counties \n",
    "County_counts = summary_dfB[\"County\"].count()\n",
    "#County_counts\n",
    "\n",
    "\n",
    "# Calculate the total Food_Insecurity_Rate for audult  and children for all the couties\n",
    "Total_Food_Insecurity_Rate_Adult = summary_dfB[\"Food_Insecurity_Rate_Adult\"].sum()\n",
    "#Total_Food_Insecurity_Rate_Adult\n",
    "Total_Food_Insecurity_Rate_Child = summary_dfB[\"Food_Insecurity_Rate_Child_A\"].sum()\n",
    "#Total_Food_Insecurity_Rate_Child\n",
    "\n",
    "# total number Num_of_Food_Insecure_PPL\n",
    "Total_Num_of_Food_Insecure_PPL_Adult = round(summary_dfB[\"Num_of_Food_Insecure_PPL_Adult\"].sum())\n",
    "Total_Num_of_Food_Insecure_For_Children = round(summary_dfB[\"Num_of_Food_Insecure_Children_A\"].sum())\n",
    "\n",
    "# Calculate the average Food_Insecurity_Rate for audult for all the couties\n",
    "Avg_Food_Insecurity_Rate_Adult = round(summary_dfB[\"Food_Insecurity_Rate_Adult\"].mean(),2)\n",
    "# Calculate the average num of food insecured children\n",
    "Avg_Food_Insecurity_Rate_Child = round(summary_dfB[\"Food_Insecurity_Rate_Child_A\"].mean(),2)\n",
    "\n",
    "# Calculate the min Food_Insecurity_Rate for audult for all the couties\n",
    "Min_Food_Insecurity_Rate_Adult = round(summary_dfB[\"Food_Insecurity_Rate_Adult\"].min(),2)\n",
    "# Calculate the min num of food insecured children\n",
    "Min_Food_Insecurity_Rate_Child = round(summary_dfB[\"Food_Insecurity_Rate_Child_A\"].min(),2)\n",
    "\n",
    "# Calculate the max Food_Insecurity_Rate for audult for all the couties\n",
    "Max_Food_Insecurity_Rate_Adult = round(summary_dfB[\"Food_Insecurity_Rate_Adult\"].max(),2)\n",
    "# Calculate the max num of food insecured children\n",
    "Max_Food_Insecurity_Rate_Child = round(summary_dfB[\"Food_Insecurity_Rate_Child_A\"].max(),2)\n",
    "\n",
    "\n"
   ]
  },
  {
   "cell_type": "code",
   "execution_count": null,
   "id": "01c95cf4",
   "metadata": {},
   "outputs": [],
   "source": [
    "summary_dfC = pd.DataFrame({        'Childeren V/S Adults Food Insecurity Rate': [Num_HH_For_All_County],\n",
    "                                    'County_counts': [County_counts],\n",
    "                                   'Total_Food_Insecurity_Rate_Adult': [Total_Food_Insecurity_Rate_Adult],\n",
    "                                    'Total_Food_Insecurity_Rate_Child' : [Total_Food_Insecurity_Rate_Child],\n",
    "                            \n",
    "                                    'Total_Num_of_Food_Insecure_PPL_Adult' : [Total_Num_of_Food_Insecure_PPL_Adult],\n",
    "                                    'Total_Num_of_Food_Insecure_For_Children':[Total_Num_of_Food_Insecure_For_Children],\n",
    "                                    \n",
    "                                                              \n",
    "                                    'Min Food_Insecurity Rate For Adult' :[Min_Food_Insecurity_Rate_Adult],\n",
    "                                    'Min Food Insecurity Rate For Child' : [Min_Food_Insecurity_Rate_Child],\n",
    "                            \n",
    "                                    'Avg Food Insecurity Rate For Adult' :[Avg_Food_Insecurity_Rate_Adult],\n",
    "                                    'Avg Food Insecurity Rate For Child' :[Avg_Food_Insecurity_Rate_Child],\n",
    "                                   \n",
    "                                    'Max Food Insecurity Rate For Adult' :[Max_Food_Insecurity_Rate_Adult],\n",
    "                                    'Max Food Insecurity Rate For Child' :[Max_Food_Insecurity_Rate_Child]\n",
    "                                    \n",
    "                               })\n",
    "summary_dfC"
   ]
  },
  {
   "cell_type": "code",
   "execution_count": null,
   "id": "ce2fe987",
   "metadata": {},
   "outputs": [],
   "source": [
    "#summary_df01AB.plot(x=\"GA County\", y=[\"GA CountyHouseHold\",\"GA Total Num of Food Insecure Person\"], kind=\"bar\")\n",
    "summary_dfC.plot(x=\"Childeren V/S Adults Food Insecurity Rate\", y=[\"Avg Food Insecurity Rate For Adult\",\"Avg Food Insecurity Rate For Child\"], kind=\"bar\")\n",
    "#plt.bar(summary_df1.index.values,summary_df1.values)\n",
    "#plt.xlabel('County_With_Higest_HH')\n",
    "#plt.ylabel('Highest_HH_Per_County')\n",
    "plt.xticks(rotation=90)\n",
    "plt.legend(loc='center left', bbox_to_anchor=(1.0,0.9))\n",
    "plt.show()"
   ]
  },
  {
   "cell_type": "code",
   "execution_count": null,
   "id": "c3efbb7a",
   "metadata": {},
   "outputs": [],
   "source": [
    "#summary_df01AB.plot(x=\"GA County\", y=[\"GA CountyHouseHold\",\"GA Total Num of Food Insecure Person\"], kind=\"bar\")\n",
    "summary_dfC.plot(x=\"Childeren V/S Adults Food Insecurity Rate\", y=[ \"Min Food_Insecurity Rate For Adult\",\"Min Food Insecurity Rate For Child\" ,\"Avg Food Insecurity Rate For Adult\",\"Avg Food Insecurity Rate For Child\",\"Max Food Insecurity Rate For Adult\",\"Max Food Insecurity Rate For Child\"], kind=\"bar\")\n",
    "#plt.bar(summary_df1.index.values,summary_df1.values)\n",
    "#plt.xlabel('County_With_Higest_HH')\n",
    "#plt.Xlabel('Childeren V/S Adults')\n",
    "plt.ylabel('% Food Insecurity Rate')\n",
    "plt.xticks(rotation=90)\n",
    "plt.legend(loc='center left', bbox_to_anchor=(1.0,0.8))\n",
    "plt.show()"
   ]
  },
  {
   "cell_type": "code",
   "execution_count": null,
   "id": "5c349599",
   "metadata": {},
   "outputs": [],
   "source": []
  },
  {
   "cell_type": "code",
   "execution_count": null,
   "id": "d846d064",
   "metadata": {},
   "outputs": [],
   "source": [
    "# Separate out the state and county columns\n"
   ]
  },
  {
   "cell_type": "code",
   "execution_count": null,
   "id": "3eca25ed",
   "metadata": {},
   "outputs": [],
   "source": [
    "# Rename Columns"
   ]
  },
  {
   "cell_type": "code",
   "execution_count": null,
   "id": "ba93cd7f",
   "metadata": {},
   "outputs": [],
   "source": [
    "# Get rid of what is not related to GA"
   ]
  },
  {
   "cell_type": "code",
   "execution_count": null,
   "id": "6ec68f3a",
   "metadata": {},
   "outputs": [],
   "source": [
    "# Merge by Counties"
   ]
  },
  {
   "cell_type": "code",
   "execution_count": null,
   "id": "6e17dcff",
   "metadata": {},
   "outputs": [],
   "source": [
    "# Sahmirah's Visual Block\n",
    "## ga_food_security_main = combined results \n",
    "# Counties with a low threshold over 50% is bad\n",
    "\n",
    "# Question: Which counties in GA are the most food inseure?\n",
    "\n",
    "# Count the number of counties in Georgia : 159 counties \n",
    "county_count = ga_food_security_main[\"County\"].count()\n",
    "\n",
    "# Calculate the total households in 2018 : 3 million households\n",
    "household_count = ga_food_security_main[\"#_Households_Per_County\"].sum()\n",
    "\n",
    "# Create a new DataFrame for low threshold\n",
    "low_fi = pd.DataFrame(ga_food_security_main[\"%_FI_≤_Low_Threshold\"])\n",
    "\n",
    "# Find the statewide average of F.I: \n",
    "#state_average = low_fi[\"%_FI_≤_Low_Threshold\"].mean()\n",
    "\n",
    "# Remove the % character from the data in the column\n",
    "low_fi[\"%_FI_≤_Low_Threshold\"] = low_fi[\"%_FI_≤_Low_Threshold\"].str.replace(\"%\",\"\")\n",
    "\n",
    "# Convert the data in the column to the float data type\n",
    "low_fi[\"%_FI_≤_Low_Threshold\"] = low_fi[\"%_FI_≤_Low_Threshold\"].astype(float)\n",
    "\n",
    "# Round the DataFrame\n",
    "low_fi[\"%_FI_≤_Low_Threshold\"] = round(low_fi[\"%_FI_≤_Low_Threshold\"])\n",
    "\n",
    "# Convert the values to a whole number \n",
    "low_fi[\"%_FI_≤_Low_Threshold\"] = low_fi[\"%_FI_≤_Low_Threshold\"].apply(int)\n",
    "\n",
    "# Filter the DataFrame to include only rows where the value in the column is over 50\n",
    "low_fi = low_fi[low_fi[\"%_FI_≤_Low_Threshold\"] >= 50]\n",
    "\n",
    "# Find the statewide average of F.I: \n",
    "state_average = low_fi[\"%_FI_≤_Low_Threshold\"].mean()\n",
    "\n",
    "# Find number of counties over 50% : 104 counties are over 50%\n",
    "low_fi_count = low_fi.shape[0]\n",
    "\n",
    "# Find the percentage of counties that are over 50% : 68.5%\n",
    "low_fi_percent = (low_fi_count / county_count) * 100\n",
    "\n",
    "print(f'{low_fi_percent} of the counties in Georgia had majority of the population facing food insecurity')\n",
    "\n",
    "######################\n",
    "\n",
    "# Create a new DataFrame for low threshold where less then 50% of the county is food insecure\n",
    "low_fi = pd.DataFrame(ga_food_security_main[\"%_FI_≤_Low_Threshold\"])\n",
    "\n",
    "# Remove the % character from the data in the column\n",
    "low_fi[\"%_FI_≤_Low_Threshold\"] = low_fi[\"%_FI_≤_Low_Threshold\"].str.replace(\"%\",\"\")\n",
    "\n",
    "# Convert the data in the column to the float data type\n",
    "low_fi[\"%_FI_≤_Low_Threshold\"] = low_fi[\"%_FI_≤_Low_Threshold\"].astype(float)\n",
    "\n",
    "# Round the DataFrame\n",
    "low_fi[\"%_FI_≤_Low_Threshold\"] = round(low_fi[\"%_FI_≤_Low_Threshold\"])\n",
    "\n",
    "# Convert the values to a whole number \n",
    "low_fi[\"%_FI_≤_Low_Threshold\"] = low_fi[\"%_FI_≤_Low_Threshold\"].apply(int)\n",
    "\n",
    "# Filter the DataFrame to include only rows where the value in the column is under 50\n",
    "little_fi = low_fi[low_fi[\"%_FI_≤_Low_Threshold\"] < 50]\n",
    "\n",
    "# Find number of counties over 50% : 50 counties are under 50%\n",
    "little_fi_count = little_fi.shape[0]\n",
    "\n",
    "# Find the percentage of counties that are under 50% : 31.4%\n",
    "little_fi_percent = (little_fi_count / county_count) * 100\n",
    "\n",
    "print(f'{little_fi_percent} of the counties in Georgia had majority of the population not facing food insecurity')\n",
    "print(f'{state_average} is the state average')\n"
   ]
  },
  {
   "cell_type": "code",
   "execution_count": null,
   "id": "21fcb3d1",
   "metadata": {},
   "outputs": [],
   "source": [
    "# # Sahmirah's Visual Block 1: Pie Graph \n",
    "\n",
    "values = [low_fi_percent, little_fi_percent]\n",
    "labels = [\"Counties Overwhelmed with Food Insecurity\", \"Counties where Food Insecurity is not an Issue\"]\n",
    "explode = (0.1,0)\n",
    "colors = [\"red\", \"green\"]\n",
    "plt.pie(values, explode=explode, labels=labels, colors=colors, autopct='%1.1f%%')\n",
    "plt.ylabel(\"County\")\n",
    "plt.show()\n"
   ]
  },
  {
   "cell_type": "code",
   "execution_count": null,
   "id": "b6d973a7",
   "metadata": {
    "scrolled": false
   },
   "outputs": [],
   "source": [
    "# Sahmirah's Visual Block 2 : Scatter\n",
    "\n",
    "# Convert the %_FI_≤_Low_Threshold column to numeric\n",
    "# Remove the %\n",
    "ga_food_security_main[\"%_FI_≤_Low_Threshold\"] = pd.to_numeric(ga_food_security_main[\"%_FI_≤_Low_Threshold\"].str.strip(\"%\"))\n",
    "\n",
    "# Filter the dataframe\n",
    "ga_food_security_main = ga_food_security_main[ga_food_security_main[\"%_FI_≤_Low_Threshold\"] > 50]\n",
    "\n",
    "# Sort the dataframe by the \"%_FI_≤_Low_Threshold\" column in descending order\n",
    "ga_food_security_main = ga_food_security_main.sort_values(by=\"%_FI_≤_Low_Threshold\", ascending=False)\n",
    "\n",
    "# Select only the top 10 rows\n",
    "top_10 = ga_food_security_main.head(10)\n",
    "\n",
    "# Create the scatter plot\n",
    "plt.scatter(top_10[\"County\"], top_10[\"%_FI_≤_Low_Threshold\"])\n",
    "\n",
    "# Add the state average \n",
    "plt.axhline(state_average, color=\"red\", label=\"State Average\")\n",
    "\n",
    "# Add axis labels\n",
    "plt.xlabel(\"County\")\n",
    "plt.xticks(rotation=90, ha='right')\n",
    "plt.ylabel(\"Percent of County threshold\")\n",
    "plt.title(\"Food Insecurity in the top 10 counties in Georgia\")\n",
    "\n",
    "plt.figure(figsize=(6,3))\n",
    "\n",
    "# Show the plot\n",
    "plt.show()\n",
    "\n",
    "\n"
   ]
  },
  {
   "cell_type": "code",
   "execution_count": null,
   "id": "a4ffcdcf",
   "metadata": {},
   "outputs": [],
   "source": [
    "# Kendall's Visual Block"
   ]
  },
  {
   "cell_type": "code",
   "execution_count": null,
   "id": "6dc67b4b",
   "metadata": {},
   "outputs": [],
   "source": [
    "# Kendall's Visual Block 1"
   ]
  },
  {
   "cell_type": "code",
   "execution_count": null,
   "id": "017cc358",
   "metadata": {},
   "outputs": [],
   "source": [
    "# Kendall's Visual Block 2"
   ]
  },
  {
   "cell_type": "code",
   "execution_count": null,
   "id": "0a58e652",
   "metadata": {},
   "outputs": [],
   "source": [
    "# Bobby's Visual Block\n",
    "low_threshold_income_rate = ga_food_security_main[\"%_FI_≤_Low_Threshold\"]\n",
    "food_insecurity_rate = ga_food_security_main[\"Food_Insecurity_Rate\"]\n",
    "\n",
    "plt.scatter(low_threshold_income_rate,food_insecurity_rate)\n",
    "plt.xlabel('% Families on SNAP')\n",
    "plt.ylabel('Food Insecurity')\n",
    "plt.title('Food Insecurity and Government Assistance')\n",
    "\n",
    "(slope, intercept, rvalue, pvalue, stderr) = linregress(low_threshold_income_rate, food_insecurity_rate)\n",
    "regress_values = low_threshold_income_rate * slope + intercept\n",
    "line_eq = \"y = \" + str(round(slope,2)) + \"x + \" + str(round(intercept,2))\n",
    "plt.plot(low_threshold_income_rate,regress_values,\"r-\")\n",
    "plt.annotate(line_eq,(70,13),fontsize=15,color=\"red\")\n",
    "\n",
    "print(f\"The r-squared is {round((rvalue**2)*100,2)}%.\")\n",
    "plt.show()"
   ]
  },
  {
   "cell_type": "code",
   "execution_count": null,
   "id": "8adb14c0",
   "metadata": {},
   "outputs": [],
   "source": [
    "# Bobby's Visual Block 1 \n",
    "hh_income = ga_food_security_main[\"Median_HH_income\"]\n",
    "\n",
    "plt.scatter(hh_income,food_insecurity_rate)\n",
    "plt.xlabel('Household Income')\n",
    "plt.ylabel('Food Insecurity')\n",
    "plt.title('Food Insecurity and Family Poverty')\n",
    "\n",
    "(slope, intercept, rvalue, pvalue, stderr) = linregress(hh_income, food_insecurity_rate)\n",
    "regress_values = hh_income * slope + intercept\n",
    "line_eq = \"y = \" + str(round(slope,2)) + \"x + \" + str(round(intercept,2))\n",
    "plt.plot(hh_income,regress_values,\"r-\")\n",
    "plt.annotate(line_eq,(45000,22),fontsize=15,color=\"red\")\n",
    "\n",
    "print(f\"The r-squared is {round((rvalue**2)*100,2)}%.\")\n",
    "plt.show()"
   ]
  },
  {
   "cell_type": "code",
   "execution_count": null,
   "id": "2e34d830",
   "metadata": {},
   "outputs": [],
   "source": [
    "# Bobby's Visual Block 2"
   ]
  }
 ],
 "metadata": {
  "kernelspec": {
   "display_name": "PythonData",
   "language": "python",
   "name": "pythondata"
  },
  "language_info": {
   "codemirror_mode": {
    "name": "ipython",
    "version": 3
   },
   "file_extension": ".py",
   "mimetype": "text/x-python",
   "name": "python",
   "nbconvert_exporter": "python",
   "pygments_lexer": "ipython3",
   "version": "3.9.13"
  }
 },
 "nbformat": 4,
 "nbformat_minor": 5
}
